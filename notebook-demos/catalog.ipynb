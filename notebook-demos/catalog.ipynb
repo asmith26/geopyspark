{
 "cells": [
  {
   "cell_type": "code",
   "execution_count": 1,
   "metadata": {
    "collapsed": false
   },
   "outputs": [],
   "source": [
    "import findspark\n",
    "spark_home = \"/usr/local/spark\"\n",
    "findspark.init(spark_home)\n",
    "\n",
    "import datetime\n",
    "import geopyspark as gps\n",
    "import numpy as np\n",
    "\n",
    "from pyspark import SparkContext\n",
    "from shapely.geometry import MultiPolygon, box"
   ]
  },
  {
   "cell_type": "code",
   "execution_count": null,
   "metadata": {
    "collapsed": false
   },
   "outputs": [],
   "source": [
    "!curl -o /tmp/cropped.tif https://s3.amazonaws.com/geopyspark-test/example-files/cropped.tif"
   ]
  },
  {
   "cell_type": "code",
   "execution_count": 2,
   "metadata": {
    "collapsed": true
   },
   "outputs": [],
   "source": [
    "conf = gps.geopyspark_conf(master=\"local[*]\", appName=\"layers\")\n",
    "pysc = SparkContext(conf=conf)"
   ]
  },
  {
   "cell_type": "code",
   "execution_count": 3,
   "metadata": {
    "collapsed": false
   },
   "outputs": [],
   "source": [
    "# Setting up the Spatial Data to be used in this example\n",
    "\n",
    "spatial_raster_layer = gps.geotiff.get(layer_type=gps.LayerType.SPATIAL, uri=\"/tmp/cropped.tif\")\n",
    "spatial_tiled_layer = spatial_raster_layer.tile_to_layout(layout=gps.GlobalLayout(), target_crs=3857)"
   ]
  },
  {
   "cell_type": "code",
   "execution_count": 4,
   "metadata": {
    "collapsed": false
   },
   "outputs": [],
   "source": [
    "# Setting up the Spatial-Temporal Data to be used in this example\n",
    "\n",
    "def make_raster(x, y, v, cols=4, rows=4, crs=4326):\n",
    "    cells = np.zeros((1, rows, cols), dtype='float32')\n",
    "    cells.fill(v)\n",
    "    # extent of a single cell is 1\n",
    "    extent = gps.TemporalProjectedExtent(extent = gps.Extent(x, y, x + cols, y + rows),\n",
    "                                         epsg=crs,\n",
    "                                         instant=datetime.datetime.now())\n",
    "    \n",
    "    return (extent, gps.Tile.from_numpy_array(cells))\n",
    "            \n",
    "layer = [\n",
    "    make_raster(0, 0, v=1),\n",
    "    make_raster(3, 2, v=2),\n",
    "    make_raster(6, 0, v=3)\n",
    "]\n",
    "  \n",
    "rdd = pysc.parallelize(layer)\n",
    "space_time_raster_layer = gps.RasterLayer.from_numpy_rdd(gps.LayerType.SPACETIME, rdd)\n",
    "space_time_tiled_layer = space_time_raster_layer.tile_to_layout(layout=gps.GlobalLayout(tile_size=5))\n",
    "space_time_pyramid = space_time_tiled_layer.pyramid()"
   ]
  },
  {
   "cell_type": "markdown",
   "metadata": {},
   "source": [
    "# Catalog\n",
    "\n",
    "The `catalog` module allows for users to retrieve information, query, and write to/from GeoTrellis layers.\n",
    "\n",
    "## What is a Catalog?\n",
    "\n",
    "A catalog is a directory where saved layers and their attributes are organized and stored in a certain manner. Within a catalog, there can exist multiple layers from different data sets. Each of these layers, in turn, are their own directories which contain two folders: one where the data is stored and the other for the metadata. The data for each layer is broken up into zoom levels and each level has its own folder within the data folder of the layer. As for the metadata, it is also broken up by zoom level and is stored as `json` files within the metadata folder.\n",
    "\n",
    "Here's an example directory structure of a catalog:\n",
    "\n",
    "```\n",
    "layer_catalog/\n",
    "  layer_a/\n",
    "    metadata_for_layer_a/\n",
    "      metadata_layer_a_zoom_0.json\n",
    "      ....\n",
    "    data_for_layer_a/\n",
    "      0/\n",
    "        data\n",
    "        ...\n",
    "      1/\n",
    "        data\n",
    "        ...\n",
    "      ...\n",
    "  layer_b/\n",
    "  ...\n",
    "```"
   ]
  },
  {
   "cell_type": "markdown",
   "metadata": {},
   "source": [
    "## Accessing Data\n",
    "\n",
    "GeoPySpark supports a number of different backends to save and read information from. These are the currently supported backends:\n",
    "\n",
    "* LocalFileSystem\n",
    "* HDFS\n",
    "* S3\n",
    "* Cassandra\n",
    "* HBase\n",
    "* Accumulo\n",
    "\n",
    "Each of these needs to be accessed via the `URI` for the given system. Here are\n",
    "example `URI`s for each:\n",
    "\n",
    "\n",
    " - **Local Filesystem**: file://my_folder/my_catalog/\n",
    " - **HDFS**: hdfs://my_folder/my_catalog/\n",
    " - **S3**: s3://my_bucket/my_catalog/\n",
    " - **Cassandra**: cassandra://[user:password@]zookeeper[:port][/keyspace][?attributes=table1[&layers=table2]]\n",
    " - **HBase**: hbase://zookeeper[:port][?master=host][?attributes=table1[&layers=table2]]\n",
    " - **Accumulo**: accumulo://[user[:password]@]zookeeper/instance-name[?attributes=table1[&layers=table2]]\n",
    " \n",
    "It is important to note that neither HBase nor Accumulo have native support for\n",
    "`URI`s. Thus, GeoPySpark uses its own pattern for these two systems.\n",
    "\n",
    "### A Note on Formatting Tiles\n",
    "\n",
    "A small, but important, note needs to be made about how tiles that are saved and/or read in are formatted in GeoPySpark. All tiles will be treated as a `MultibandTile`. Regardless if they were one to begin with. This was a design choice that was made to simplify both the backend and the API of GeoPySpark."
   ]
  },
  {
   "cell_type": "markdown",
   "metadata": {},
   "source": [
    "## Saving Data to a Backend\n",
    "\n",
    "The `write` function will save a given `TiledRasterLayer` to a specified backend. If the catalog does not exist when calling this function, then it will be created along with the saved layer.\n",
    "\n",
    "**Note**: It is not possible to save a layer to a catalog if the layer name and zoom already exist. If you wish to overwrite an existing, saved layer then it must be deleted before writing the new one.\n",
    "\n",
    "**Note**: Saving a `TiledRasterLayer` that does not have a `zoom_level` will save the layer to a zoom of 0. Thus, when it is read back out from the catalog, the resulting `TiledRasterLayer` will have a `zoom_level` of 0."
   ]
  },
  {
   "cell_type": "markdown",
   "metadata": {},
   "source": [
    "### Saving a Spatial Layer\n",
    "\n",
    "Saving a spatial layer is a straight forward task. All that needs to be supplied is a `URI`, the name of the layer, and the layer to be saved."
   ]
  },
  {
   "cell_type": "code",
   "execution_count": 5,
   "metadata": {
    "collapsed": false
   },
   "outputs": [
    {
     "data": {
      "text/plain": [
       "11"
      ]
     },
     "execution_count": 5,
     "metadata": {},
     "output_type": "execute_result"
    }
   ],
   "source": [
    "# The zoom level which will be saved\n",
    "spatial_tiled_layer.zoom_level"
   ]
  },
  {
   "cell_type": "code",
   "execution_count": 6,
   "metadata": {
    "collapsed": false
   },
   "outputs": [],
   "source": [
    "# This will create a catalog called, \"spatial-catalog\" in the /tmp directory.\n",
    "# Within it, a layer named, \"spatial-layer\" will be saved.\n",
    "gps.write(uri='file:///tmp/spatial-catalog', layer_name='spatial-layer', tiled_raster_layer=spatial_tiled_layer)"
   ]
  },
  {
   "cell_type": "markdown",
   "metadata": {},
   "source": [
    "### Saving a Spatial Temporal Layer\n",
    "\n",
    "When saving a spatial-temporal layer, one needs to consider how the records within the catalog will be spaced; which in turn, determines the resolution of index. The `TimeUnit` enum class contains all available units of time that can be used to space apart data in the catalog."
   ]
  },
  {
   "cell_type": "code",
   "execution_count": 7,
   "metadata": {
    "collapsed": false,
    "scrolled": false
   },
   "outputs": [
    {
     "data": {
      "text/plain": [
       "7"
      ]
     },
     "execution_count": 7,
     "metadata": {},
     "output_type": "execute_result"
    }
   ],
   "source": [
    "# The zoom level which will be saved\n",
    "space_time_tiled_layer.zoom_level"
   ]
  },
  {
   "cell_type": "code",
   "execution_count": 8,
   "metadata": {
    "collapsed": false
   },
   "outputs": [],
   "source": [
    "# This will create a catalog called, \"spacetime-catalog\" in the /tmp directory.\n",
    "# Within it, a layer named, \"spacetime-layer\" will be saved and each indice will be spaced apart by SECONDS\n",
    "gps.write(uri='file:///tmp/spacetime-catalog',\n",
    "          layer_name='spacetime-layer',\n",
    "          tiled_raster_layer=space_time_tiled_layer,\n",
    "          time_unit=gps.TimeUnit.SECONDS)"
   ]
  },
  {
   "cell_type": "markdown",
   "metadata": {},
   "source": [
    "### Saving a Pyramid\n",
    "\n",
    "For those that are unfamiliar with the `Pyramid` class, please see the [Pyramid](visualization.ipynb#Pyramid) of the visualization guide. Otherwise, please continue on.\n",
    "\n",
    "As of right now, there is no way to directly save a `Pyramid`. However, because a `Pyramid` is just a collection of `TiledRasterLayer`s of different zooms, it is possible to iterate through the layers of the `Pyramid` and save one individually."
   ]
  },
  {
   "cell_type": "code",
   "execution_count": 10,
   "metadata": {
    "collapsed": false
   },
   "outputs": [
    {
     "ename": "Py4JJavaError",
     "evalue": "An error occurred while calling o84.writeTemporal.\n: java.lang.IllegalArgumentException: requirement failed: Layer(name = \"spacetime-layer\", zoom = 0) already exists\n\tat scala.Predef$.require(Predef.scala:224)\n\tat geotrellis.spark.io.file.FileLayerWriter._write(FileLayerWriter.scala:115)\n\tat geotrellis.spark.io.file.FileLayerWriter._write(FileLayerWriter.scala:49)\n\tat geotrellis.spark.io.LayerWriter$class.write(LayerWriter.scala:153)\n\tat geotrellis.spark.io.file.FileLayerWriter.write(FileLayerWriter.scala:49)\n\tat geopyspark.geotrellis.io.LayerWriterWrapper.writeTemporal(LayerWriterWrapper.scala:107)\n\tat sun.reflect.NativeMethodAccessorImpl.invoke0(Native Method)\n\tat sun.reflect.NativeMethodAccessorImpl.invoke(NativeMethodAccessorImpl.java:62)\n\tat sun.reflect.DelegatingMethodAccessorImpl.invoke(DelegatingMethodAccessorImpl.java:43)\n\tat java.lang.reflect.Method.invoke(Method.java:498)\n\tat py4j.reflection.MethodInvoker.invoke(MethodInvoker.java:244)\n\tat py4j.reflection.ReflectionEngine.invoke(ReflectionEngine.java:357)\n\tat py4j.Gateway.invoke(Gateway.java:280)\n\tat py4j.commands.AbstractCommand.invokeMethod(AbstractCommand.java:132)\n\tat py4j.commands.CallCommand.execute(CallCommand.java:79)\n\tat py4j.GatewayConnection.run(GatewayConnection.java:214)\n\tat java.lang.Thread.run(Thread.java:748)\n",
     "traceback": [
      "\u001b[0;31m---------------------------------------------------------------------------\u001b[0m",
      "\u001b[0;31mPy4JJavaError\u001b[0m                             Traceback (most recent call last)",
      "\u001b[0;32m<ipython-input-10-98fb0d86bff3>\u001b[0m in \u001b[0;36m<module>\u001b[0;34m()\u001b[0m\n\u001b[1;32m      6\u001b[0m                   \u001b[0mlayer_name\u001b[0m\u001b[0;34m=\u001b[0m\u001b[0;34m'spacetime-layer'\u001b[0m\u001b[0;34m,\u001b[0m\u001b[0;34m\u001b[0m\u001b[0m\n\u001b[1;32m      7\u001b[0m                   \u001b[0mtiled_raster_layer\u001b[0m\u001b[0;34m=\u001b[0m\u001b[0mlayer\u001b[0m\u001b[0;34m,\u001b[0m\u001b[0;34m\u001b[0m\u001b[0m\n\u001b[0;32m----> 8\u001b[0;31m                   time_unit=gps.TimeUnit.SECONDS)\n\u001b[0m",
      "\u001b[0;32m~/venvs/geopyspark/lib/python3.5/site-packages/geopyspark-0.2.2-py3.5.egg/geopyspark/geotrellis/catalog.py\u001b[0m in \u001b[0;36mwrite\u001b[0;34m(uri, layer_name, tiled_raster_layer, index_strategy, time_unit, time_resolution, store)\u001b[0m\n\u001b[1;32m    292\u001b[0m                              \u001b[0mTimeUnit\u001b[0m\u001b[0;34m(\u001b[0m\u001b[0mtime_unit\u001b[0m\u001b[0;34m)\u001b[0m\u001b[0;34m.\u001b[0m\u001b[0mvalue\u001b[0m\u001b[0;34m,\u001b[0m\u001b[0;34m\u001b[0m\u001b[0m\n\u001b[1;32m    293\u001b[0m                              \u001b[0mtime_resolution\u001b[0m\u001b[0;34m,\u001b[0m\u001b[0;34m\u001b[0m\u001b[0m\n\u001b[0;32m--> 294\u001b[0;31m                              IndexingMethod(index_strategy).value)\n\u001b[0m\u001b[1;32m    295\u001b[0m     \u001b[0;32melse\u001b[0m\u001b[0;34m:\u001b[0m\u001b[0;34m\u001b[0m\u001b[0m\n\u001b[1;32m    296\u001b[0m         \u001b[0;32mraise\u001b[0m \u001b[0mValueError\u001b[0m\u001b[0;34m(\u001b[0m\u001b[0;34m\"Cannot write {} layer\"\u001b[0m\u001b[0;34m.\u001b[0m\u001b[0mformat\u001b[0m\u001b[0;34m(\u001b[0m\u001b[0mtiled_raster_layer\u001b[0m\u001b[0;34m.\u001b[0m\u001b[0mlayer_type\u001b[0m\u001b[0;34m)\u001b[0m\u001b[0;34m)\u001b[0m\u001b[0;34m\u001b[0m\u001b[0m\n",
      "\u001b[0;32m/usr/local/spark/python/lib/py4j-0.10.4-src.zip/py4j/java_gateway.py\u001b[0m in \u001b[0;36m__call__\u001b[0;34m(self, *args)\u001b[0m\n\u001b[1;32m   1131\u001b[0m         \u001b[0manswer\u001b[0m \u001b[0;34m=\u001b[0m \u001b[0mself\u001b[0m\u001b[0;34m.\u001b[0m\u001b[0mgateway_client\u001b[0m\u001b[0;34m.\u001b[0m\u001b[0msend_command\u001b[0m\u001b[0;34m(\u001b[0m\u001b[0mcommand\u001b[0m\u001b[0;34m)\u001b[0m\u001b[0;34m\u001b[0m\u001b[0m\n\u001b[1;32m   1132\u001b[0m         return_value = get_return_value(\n\u001b[0;32m-> 1133\u001b[0;31m             answer, self.gateway_client, self.target_id, self.name)\n\u001b[0m\u001b[1;32m   1134\u001b[0m \u001b[0;34m\u001b[0m\u001b[0m\n\u001b[1;32m   1135\u001b[0m         \u001b[0;32mfor\u001b[0m \u001b[0mtemp_arg\u001b[0m \u001b[0;32min\u001b[0m \u001b[0mtemp_args\u001b[0m\u001b[0;34m:\u001b[0m\u001b[0;34m\u001b[0m\u001b[0m\n",
      "\u001b[0;32m/usr/local/spark/python/lib/py4j-0.10.4-src.zip/py4j/protocol.py\u001b[0m in \u001b[0;36mget_return_value\u001b[0;34m(answer, gateway_client, target_id, name)\u001b[0m\n\u001b[1;32m    317\u001b[0m                 raise Py4JJavaError(\n\u001b[1;32m    318\u001b[0m                     \u001b[0;34m\"An error occurred while calling {0}{1}{2}.\\n\"\u001b[0m\u001b[0;34m.\u001b[0m\u001b[0;34m\u001b[0m\u001b[0m\n\u001b[0;32m--> 319\u001b[0;31m                     format(target_id, \".\", name), value)\n\u001b[0m\u001b[1;32m    320\u001b[0m             \u001b[0;32melse\u001b[0m\u001b[0;34m:\u001b[0m\u001b[0;34m\u001b[0m\u001b[0m\n\u001b[1;32m    321\u001b[0m                 raise Py4JError(\n",
      "\u001b[0;31mPy4JJavaError\u001b[0m: An error occurred while calling o84.writeTemporal.\n: java.lang.IllegalArgumentException: requirement failed: Layer(name = \"spacetime-layer\", zoom = 0) already exists\n\tat scala.Predef$.require(Predef.scala:224)\n\tat geotrellis.spark.io.file.FileLayerWriter._write(FileLayerWriter.scala:115)\n\tat geotrellis.spark.io.file.FileLayerWriter._write(FileLayerWriter.scala:49)\n\tat geotrellis.spark.io.LayerWriter$class.write(LayerWriter.scala:153)\n\tat geotrellis.spark.io.file.FileLayerWriter.write(FileLayerWriter.scala:49)\n\tat geopyspark.geotrellis.io.LayerWriterWrapper.writeTemporal(LayerWriterWrapper.scala:107)\n\tat sun.reflect.NativeMethodAccessorImpl.invoke0(Native Method)\n\tat sun.reflect.NativeMethodAccessorImpl.invoke(NativeMethodAccessorImpl.java:62)\n\tat sun.reflect.DelegatingMethodAccessorImpl.invoke(DelegatingMethodAccessorImpl.java:43)\n\tat java.lang.reflect.Method.invoke(Method.java:498)\n\tat py4j.reflection.MethodInvoker.invoke(MethodInvoker.java:244)\n\tat py4j.reflection.ReflectionEngine.invoke(ReflectionEngine.java:357)\n\tat py4j.Gateway.invoke(Gateway.java:280)\n\tat py4j.commands.AbstractCommand.invokeMethod(AbstractCommand.java:132)\n\tat py4j.commands.CallCommand.execute(CallCommand.java:79)\n\tat py4j.GatewayConnection.run(GatewayConnection.java:214)\n\tat java.lang.Thread.run(Thread.java:748)\n"
     ],
     "output_type": "error"
    }
   ],
   "source": [
    "for zoom, layer in space_time_pyramid.levels.items():\n",
    "    # Because we've already written a layer of the same name to the same catalog with a zoom level of 7,\n",
    "    # we will skip writing the level 7 layer.\n",
    "    if zoom != 7:\n",
    "        gps.write(uri='file:///tmp/spacetime-catalog',\n",
    "                  layer_name='spacetime-layer',\n",
    "                  tiled_raster_layer=layer,\n",
    "                  time_unit=gps.TimeUnit.SECONDS)"
   ]
  },
  {
   "cell_type": "markdown",
   "metadata": {},
   "source": [
    "## Reading Metadata From a Saved Layer\n",
    "\n",
    "It is possible to retrieve the `Metadata` for a layer without reading in the whole layer. This is done using the `read_layer_metadata` function. There is no difference between spatial and spatial-temporal layers when using this function."
   ]
  },
  {
   "cell_type": "code",
   "execution_count": 11,
   "metadata": {
    "collapsed": false
   },
   "outputs": [
    {
     "data": {
      "text/plain": [
       "Metadata(Bounds(minKey=SpatialKey(col=1479, row=984), maxKey=SpatialKey(col=1485, row=996)), int16, -32768, +proj=merc +a=6378137 +b=6378137 +lat_ts=0.0 +lon_0=0.0 +x_0=0.0 +y_0=0 +k=1.0 +units=m +nadgrids=@null +wktext +no_defs , Extent(xmin=8905559.263461886, ymin=542452.3029262376, xmax=9024344.975973438, ymax=781182.2141882492), TileLayout(layoutCols=2048, layoutRows=2048, tileCols=256, tileRows=256), LayoutDefinition(extent=Extent(xmin=-20037508.342789244, ymin=-20037508.342789244, xmax=20037508.342789244, ymax=20037508.342789244), tileLayout=TileLayout(layoutCols=2048, layoutRows=2048, tileCols=256, tileRows=256)))"
      ]
     },
     "execution_count": 11,
     "metadata": {},
     "output_type": "execute_result"
    }
   ],
   "source": [
    "# Metadata from the TiledRasterLayer\n",
    "spatial_tiled_layer.layer_metadata"
   ]
  },
  {
   "cell_type": "code",
   "execution_count": 12,
   "metadata": {
    "collapsed": false
   },
   "outputs": [
    {
     "data": {
      "text/plain": [
       "Metadata(Bounds(minKey=SpatialKey(col=1479, row=984), maxKey=SpatialKey(col=1485, row=996)), int16, -32768, +proj=merc +a=6378137 +b=6378137 +lat_ts=0.0 +lon_0=0.0 +x_0=0.0 +y_0=0 +k=1.0 +units=m +nadgrids=@null +wktext +no_defs , Extent(xmin=8905559.263461886, ymin=542452.3029262376, xmax=9024344.975973438, ymax=781182.2141882492), TileLayout(layoutCols=2048, layoutRows=2048, tileCols=256, tileRows=256), LayoutDefinition(extent=Extent(xmin=-20037508.342789244, ymin=-20037508.342789244, xmax=20037508.342789244, ymax=20037508.342789244), tileLayout=TileLayout(layoutCols=2048, layoutRows=2048, tileCols=256, tileRows=256)))"
      ]
     },
     "execution_count": 12,
     "metadata": {},
     "output_type": "execute_result"
    }
   ],
   "source": [
    "# Reads the Metadata from the spatial-layer of the spatial-catalog for zoom level 11\n",
    "gps.read_layer_metadata(uri=\"file:///tmp/spatial-catalog\",\n",
    "                        layer_name=\"spatial-layer\",\n",
    "                        layer_zoom=11)"
   ]
  },
  {
   "cell_type": "markdown",
   "metadata": {},
   "source": [
    "## Reading a Tile From a Saved Layer\n",
    "\n",
    "One can read a single tile that has been saved to a layer using the `read_value` function. This will either return a `Tile` or `None` depending on whether or not the specified tile exists."
   ]
  },
  {
   "cell_type": "markdown",
   "metadata": {},
   "source": [
    "### Reading a Tile From a Saved, Spatial Layer"
   ]
  },
  {
   "cell_type": "code",
   "execution_count": 13,
   "metadata": {
    "collapsed": false,
    "scrolled": true
   },
   "outputs": [
    {
     "data": {
      "text/plain": [
       "Tile(cells=array([[[-32768, -32768, -32768, ..., -32768, -32768, -32768],\n        [-32768, -32768, -32768, ..., -32768, -32768, -32768],\n        [-32768, -32768, -32768, ..., -32768, -32768, -32768],\n        ..., \n        [-32768, -32768, -32768, ...,     99,    134,    165],\n        [-32768, -32768, -32768, ...,     86,    127,    170],\n        [-32768, -32768, -32768, ...,     83,    125,    157]]], dtype=int16), cell_type='SHORT', no_data_value=-32768.0)"
      ]
     },
     "execution_count": 13,
     "metadata": {},
     "output_type": "execute_result"
    }
   ],
   "source": [
    "# The Tile being read will be the smallest key of the layer\n",
    "min_key = spatial_tiled_layer.layer_metadata.bounds.minKey\n",
    "\n",
    "gps.read_value(uri=\"file:///tmp/spatial-catalog\",\n",
    "               layer_name=\"spatial-layer\",\n",
    "               layer_zoom=11,\n",
    "               col=min_key.col,\n",
    "               row=min_key.row)"
   ]
  },
  {
   "cell_type": "markdown",
   "metadata": {},
   "source": [
    "### Reading a Tile From a Saved, Spatial-Temporal Layer"
   ]
  },
  {
   "cell_type": "code",
   "execution_count": 14,
   "metadata": {
    "collapsed": false,
    "scrolled": true
   },
   "outputs": [
    {
     "data": {
      "text/plain": [
       "Tile(cells=array([[[ 3.,  3.,  3.,  0.,  0.],\n        [ 3.,  3.,  3.,  0.,  0.],\n        [ 3.,  3.,  3.,  0.,  0.],\n        [ 3.,  3.,  3.,  0.,  0.],\n        [ 3.,  3.,  3.,  0.,  0.]]], dtype=float32), cell_type='FLOAT', no_data_value=None)"
      ]
     },
     "execution_count": 14,
     "metadata": {},
     "output_type": "execute_result"
    }
   ],
   "source": [
    "# The Tile being read will be the largest key of the layer\n",
    "max_key = space_time_tiled_layer.layer_metadata.bounds.maxKey\n",
    "\n",
    "gps.read_value(uri=\"file:///tmp/spacetime-catalog\",\n",
    "               layer_name=\"spacetime-layer\",\n",
    "               layer_zoom=7,\n",
    "               col=max_key.col,\n",
    "               row=max_key.row,\n",
    "               zdt=max_key.instant)"
   ]
  },
  {
   "cell_type": "markdown",
   "metadata": {},
   "source": [
    "## Reading a Layer\n",
    "\n",
    "There are two ways one can read a layer in GeoPySpark: reading the entire layer or just portions of it. The former will be the goal discussed in this section. While all of the layer will be read, the function for doing so is called, `query`. There is no difference between spatial and spatial-temporal layers when using this function.\n",
    "\n",
    "**Note**: What distinguishes between a full and partial read is the parameters given to `query`. If no filters were given, then the whole layer is read."
   ]
  },
  {
   "cell_type": "code",
   "execution_count": 15,
   "metadata": {
    "collapsed": false
   },
   "outputs": [
    {
     "data": {
      "text/plain": [
       "TiledRasterLayer(layer_type=LayerType.SPATIAL, zoom_level=11, is_floating_point_layer=False)"
      ]
     },
     "execution_count": 15,
     "metadata": {},
     "output_type": "execute_result"
    }
   ],
   "source": [
    "# Returns the entire layer that was at zoom level 11.\n",
    "gps.query(uri=\"file:///tmp/spatial-catalog\",\n",
    "          layer_name=\"spatial-layer\",\n",
    "          layer_zoom=11)"
   ]
  },
  {
   "cell_type": "markdown",
   "metadata": {},
   "source": [
    "## Querying a Layer\n",
    "\n",
    "When only a certain section of the layer is of interest, one can retrieve these areas of the layer through the `query` method. Depending on the type of data being queried, there are a couple of ways to filter what will be returned."
   ]
  },
  {
   "cell_type": "markdown",
   "metadata": {},
   "source": [
    "### Querying a Spatial Layer\n",
    "\n",
    "One can query an area of a spatial layer that covers the region of interest by providing a geometry that represents this region. This area can be represented as: `shapely.geometry` (specifically `Polygon`s and `MultiPolygon`s), the `wkb` representation of the geometry, or an `Extent`.\n",
    "\n",
    "**Note**: It is important that the given geometry is in the same projection as the queried layer. Otherwise, either the wrong area or nothing will be returned."
   ]
  },
  {
   "cell_type": "markdown",
   "metadata": {},
   "source": [
    "#### When the Queried Geometry is in the Same Projection as the Layer\n",
    "\n",
    "By default, the `query` function assumes that the geometry and layer given are in the same projection."
   ]
  },
  {
   "cell_type": "code",
   "execution_count": 16,
   "metadata": {
    "collapsed": false
   },
   "outputs": [],
   "source": [
    "layer_extent = spatial_tiled_layer.layer_metadata.extent\n",
    "\n",
    "# Creates a Polygon from the cropped Extent of the Layer\n",
    "poly = box(layer_extent.xmin+100, layer_extent.ymin+100, layer_extent.xmax-100, layer_extent.ymax-100)"
   ]
  },
  {
   "cell_type": "code",
   "execution_count": 17,
   "metadata": {
    "collapsed": false,
    "scrolled": true
   },
   "outputs": [
    {
     "data": {
      "text/plain": [
       "TiledRasterLayer(layer_type=LayerType.SPATIAL, zoom_level=11, is_floating_point_layer=False)"
      ]
     },
     "execution_count": 17,
     "metadata": {},
     "output_type": "execute_result"
    }
   ],
   "source": [
    "# Returns the region of the layer that was intersected by the Polygon at zoom level 11.\n",
    "gps.query(uri=\"file:///tmp/spatial-catalog\",\n",
    "          layer_name=\"spatial-layer\",\n",
    "          layer_zoom=11,\n",
    "          query_geom=poly)"
   ]
  },
  {
   "cell_type": "markdown",
   "metadata": {},
   "source": [
    "#### When the Queried Geometry is in a Different Projection than the Layer\n",
    "\n",
    "As stated above, it is important that both the geometry and layer are in the same projection. If the two are in different CRSs, then this can be resolved by setting the `proj_query` parameter to whatever projection the geometry is in."
   ]
  },
  {
   "cell_type": "code",
   "execution_count": 18,
   "metadata": {
    "collapsed": false,
    "scrolled": true
   },
   "outputs": [
    {
     "data": {
      "text/plain": [
       "(Extent(xmin=79.98046874999999, ymin=4.740363190812215, xmax=81.21126434125325, ymax=7.01366792756663),\n Extent(xmin=8905559.263461886, ymin=542452.3029262376, xmax=9024344.975973438, ymax=781182.2141882492))"
      ]
     },
     "execution_count": 18,
     "metadata": {},
     "output_type": "execute_result"
    }
   ],
   "source": [
    "# The queried Extent is in a different projection than the base layer\n",
    "metadata = spatial_tiled_layer.tile_to_layout(layout=gps.GlobalLayout(), target_crs=4326).layer_metadata\n",
    "metadata.extent, spatial_tiled_layer.layer_metadata.extent"
   ]
  },
  {
   "cell_type": "code",
   "execution_count": 19,
   "metadata": {
    "collapsed": false,
    "scrolled": true
   },
   "outputs": [],
   "source": [
    "# Queries the area of the Extent and returns any intersections\n",
    "querried_spatial_layer = gps.query(uri=\"file:///tmp/spatial-catalog\",\n",
    "                                   layer_name=\"spatial-layer\",\n",
    "                                   layer_zoom=11,\n",
    "                                   query_geom=metadata.extent,\n",
    "                                   query_proj=4326)"
   ]
  },
  {
   "cell_type": "code",
   "execution_count": 20,
   "metadata": {
    "collapsed": false
   },
   "outputs": [
    {
     "data": {
      "text/plain": [
       "True"
      ]
     },
     "execution_count": 20,
     "metadata": {},
     "output_type": "execute_result"
    }
   ],
   "source": [
    "# Because we queried the whole Extent of the layer, we should have gotten back the whole thing.\n",
    "querried_extent = querried_spatial_layer.layer_metadata.layout_definition.extent\n",
    "base_extent = spatial_tiled_layer.layer_metadata.layout_definition.extent\n",
    "\n",
    "querried_extent == base_extent"
   ]
  },
  {
   "cell_type": "markdown",
   "metadata": {},
   "source": [
    "### Querying a Spatial-Temporal Layer\n",
    "\n",
    "In addition to being able to query a geometry, spatial-temporal data can also be filtered by time as well."
   ]
  },
  {
   "cell_type": "markdown",
   "metadata": {},
   "source": [
    "#### Querying by Time"
   ]
  },
  {
   "cell_type": "code",
   "execution_count": 21,
   "metadata": {
    "collapsed": false
   },
   "outputs": [
    {
     "data": {
      "text/plain": [
       "TiledRasterLayer(layer_type=LayerType.SPACETIME, zoom_level=7, is_floating_point_layer=True)"
      ]
     },
     "execution_count": 21,
     "metadata": {},
     "output_type": "execute_result"
    }
   ],
   "source": [
    "min_key = space_time_tiled_layer.layer_metadata.bounds.minKey\n",
    "\n",
    "# Returns a TiledRasterLayer whose keys intersect the given time interval.\n",
    "# In this case, the entire layer will be read.\n",
    "gps.query(uri=\"file:///tmp/spacetime-catalog\",\n",
    "          layer_name=\"spacetime-layer\",\n",
    "          layer_zoom=7,\n",
    "          time_intervals=[min_key.instant, max_key.instant])"
   ]
  },
  {
   "cell_type": "code",
   "execution_count": 22,
   "metadata": {
    "collapsed": false
   },
   "outputs": [
    {
     "data": {
      "text/plain": [
       "TiledRasterLayer(layer_type=LayerType.SPACETIME, zoom_level=7, is_floating_point_layer=True)"
      ]
     },
     "execution_count": 22,
     "metadata": {},
     "output_type": "execute_result"
    }
   ],
   "source": [
    "# It's possible to query a single time interval. By doing so, only Tiles that contain the time given will be\n",
    "# returned.\n",
    "gps.query(uri=\"file:///tmp/spacetime-catalog\",\n",
    "          layer_name=\"spacetime-layer\",\n",
    "          layer_zoom=7,\n",
    "          time_intervals=[min_key.instant])"
   ]
  },
  {
   "cell_type": "markdown",
   "metadata": {},
   "source": [
    "#### Querying by Space and Time"
   ]
  },
  {
   "cell_type": "code",
   "execution_count": 23,
   "metadata": {
    "collapsed": false
   },
   "outputs": [],
   "source": [
    "# In addition to Polygons, one can also query using MultiPolygons.\n",
    "poly_1 = box(140.0, 60.0, 150.0, 65.0)\n",
    "poly_2 = box(160.0, 70.0, 179.0, 89.0)\n",
    "multi_poly = MultiPolygon(poly_1, poly_2)"
   ]
  },
  {
   "cell_type": "code",
   "execution_count": 24,
   "metadata": {
    "collapsed": false
   },
   "outputs": [
    {
     "data": {
      "text/plain": [
       "TiledRasterLayer(layer_type=LayerType.SPACETIME, zoom_level=7, is_floating_point_layer=True)"
      ]
     },
     "execution_count": 24,
     "metadata": {},
     "output_type": "execute_result"
    }
   ],
   "source": [
    "# Returns a TiledRasterLayer that contains the tiles which intersect the given polygons and are within the\n",
    "# specified time interval.\n",
    "gps.query(uri=\"file:///tmp/spacetime-catalog\",\n",
    "          layer_name=\"spacetime-layer\",\n",
    "          layer_zoom=7,\n",
    "          query_geom=multi_poly,\n",
    "          time_intervals=[min_key.instant, max_key.instant])"
   ]
  },
  {
   "cell_type": "code",
   "execution_count": 25,
   "metadata": {},
   "outputs": [],
   "source": [
    "pysc.stop()"
   ]
  }
 ],
 "metadata": {
  "kernelspec": {
   "display_name": "Python 3",
   "language": "python",
   "name": "python3"
  },
  "language_info": {
   "codemirror_mode": {
    "name": "ipython",
    "version": 3.0
   },
   "file_extension": ".py",
   "mimetype": "text/x-python",
   "name": "python",
   "nbconvert_exporter": "python",
   "pygments_lexer": "ipython3",
   "version": "3.5.1+"
  }
 },
 "nbformat": 4,
 "nbformat_minor": 0
}