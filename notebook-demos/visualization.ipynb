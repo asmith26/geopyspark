{
 "cells": [
  {
   "cell_type": "code",
   "execution_count": 3,
   "metadata": {
    "collapsed": false
   },
   "outputs": [],
   "source": [
    "import findspark\n",
    "spark_home = \"/usr/local/spark\"\n",
    "findspark.init(spark_home)\n",
    "\n",
    "import geopyspark as gps\n",
    "import matplotlib.pyplot as plt\n",
    "\n",
    "from colortools import Color\n",
    "from pyspark import SparkContext\n",
    "\n",
    "%matplotlib inline"
   ]
  },
  {
   "cell_type": "code",
   "execution_count": null,
   "metadata": {
    "collapsed": false
   },
   "outputs": [],
   "source": [
    "!curl -o /tmp/cropped.tif https://s3.amazonaws.com/geopyspark-test/example-files/cropped.tif"
   ]
  },
  {
   "cell_type": "code",
   "execution_count": 4,
   "metadata": {
    "collapsed": true
   },
   "outputs": [],
   "source": [
    "conf = gps.geopyspark_conf(master=\"local[*]\", appName=\"visualization\")\n",
    "pysc = SparkContext(conf=conf)"
   ]
  },
  {
   "cell_type": "code",
   "execution_count": 5,
   "metadata": {
    "collapsed": true
   },
   "outputs": [],
   "source": [
    "raster_layer = gps.geotiff.get(layer_type=gps.LayerType.SPATIAL, uri=\"/tmp/cropped.tif\")\n",
    "tiled_layer = raster_layer.tile_to_layout(layout=gps.GlobalLayout(), target_crs=3857)"
   ]
  },
  {
   "cell_type": "markdown",
   "metadata": {},
   "source": [
    "# Visualizing Data in GeoPySpark\n",
    "\n",
    "Data is visualized in GeoPySpark by running a server which allows it to be viewed in an interactive way. Before putting the data on the server, however, it must first be formatted and colored. This guide seeks to go over the steps needed to create a visualization server in GeoPySpark."
   ]
  },
  {
   "cell_type": "markdown",
   "metadata": {},
   "source": [
    "## Pyramid\n",
    "\n",
    "The `pyramid` class represents a list of `TiledRasterLayer`s that represent the same area where each layer is a level within the pyramid at a specific zoom level. Thus, as one moves up the pyramid (starting a level 0), the image will become more zoomed by a power of 2 for each level. It is this varying level of detail that allows an interactive tile server to be created from a `Pyramid`. This class is needed in order to create visualizations of the contents within its layers."
   ]
  },
  {
   "cell_type": "markdown",
   "metadata": {},
   "source": [
    "### Creating a Pyramid\n",
    "\n",
    "There are currently two different ways to create a `Pyramid` instance: Through the `TiledRasterLayer.pyramid` method or by constructing it by passing in a `[TiledRasterLayer]` or `{zoom_level: TiledRasterLayer}` to `Pyramid`.\n",
    "\n",
    "Any `TiledRasterLayer` with a `max_zoom` can be pyramided. However, the resulting `Pyramid` may have limited functionality depending on the layout of the source `TiledRasterLayer`. In order to be used for visualization, the `Pyramid` **must** have been created from `TiledRasterLayer` that was tiled using a `GlobalLayout` and whose tile sizes are a power of 2."
   ]
  },
  {
   "cell_type": "markdown",
   "metadata": {},
   "source": [
    "#### Via the pyramid Method\n",
    "\n",
    "When using the `pyramid` method, a `Pyramid` instance will be created with levels from 0 to `TiledRasterlayer.zoom_level`. Thus, if a `TiledRasterLayer` has a `zoom_level` of 12 then the resulting `Pyramid` will have 13 levels that each correspond to a zoom from 0 to 12."
   ]
  },
  {
   "cell_type": "code",
   "execution_count": 6,
   "metadata": {
    "collapsed": false
   },
   "outputs": [
    {
     "data": {
      "text/plain": [
       "Pyramid(layer_type=LayerType.SPATIAL, max_zoom=11, num_levels=12, is_cached=False)"
      ]
     },
     "execution_count": 6,
     "metadata": {},
     "output_type": "execute_result"
    }
   ],
   "source": [
    "pyramided = tiled_layer.pyramid()\n",
    "pyramided"
   ]
  },
  {
   "cell_type": "markdown",
   "metadata": {},
   "source": [
    "#### Contrusting a Pyramid Manually"
   ]
  },
  {
   "cell_type": "code",
   "execution_count": 7,
   "metadata": {
    "collapsed": false
   },
   "outputs": [
    {
     "data": {
      "text/plain": [
       "Pyramid(layer_type=LayerType.SPATIAL, max_zoom=12, num_levels=13, is_cached=False)"
      ]
     },
     "execution_count": 7,
     "metadata": {},
     "output_type": "execute_result"
    }
   ],
   "source": [
    "gps.Pyramid([tiled_layer.tile_to_layout(gps.GlobalLayout(zoom=x)) for x in range(0, 13)])"
   ]
  },
  {
   "cell_type": "code",
   "execution_count": 8,
   "metadata": {
    "collapsed": false
   },
   "outputs": [
    {
     "data": {
      "text/plain": [
       "Pyramid(layer_type=LayerType.SPATIAL, max_zoom=12, num_levels=13, is_cached=False)"
      ]
     },
     "execution_count": 8,
     "metadata": {},
     "output_type": "execute_result"
    }
   ],
   "source": [
    "gps.Pyramid({x: tiled_layer.tile_to_layout(gps.GlobalLayout(zoom=x)) for x in range(0, 13)})"
   ]
  },
  {
   "cell_type": "markdown",
   "metadata": {},
   "source": [
    "### Computing the Histogram of a Pyramid\n",
    "\n",
    "One can produce a `Histogram` instance representing all of the layers within a `Pyramid` via the `get_histogram` method."
   ]
  },
  {
   "cell_type": "code",
   "execution_count": 9,
   "metadata": {
    "collapsed": false
   },
   "outputs": [
    {
     "data": {
      "text/plain": [
       "<geopyspark.geotrellis.histogram.Histogram at 0x7fbd81068208>"
      ]
     },
     "execution_count": 9,
     "metadata": {},
     "output_type": "execute_result"
    }
   ],
   "source": [
    "hist = pyramided.get_histogram()\n",
    "hist"
   ]
  },
  {
   "cell_type": "markdown",
   "metadata": {},
   "source": [
    "### RDD Methods\n",
    "\n",
    "`Pyramid` contains methods for working with the `RDD`s contained within its `TiledRasterLayer`s. A list of these can be found [here](layers.ipynb#rdd-methods). When used, all internal `RDD`s will be operated on."
   ]
  },
  {
   "cell_type": "markdown",
   "metadata": {},
   "source": [
    "### Map Algebra\n",
    "\n",
    "While not as versatile as `TiledRasterLayer` in terms of map algebra operations, `Pyramid`s are still able to perform local operations between themselves, `int`s, and `float`s.\n",
    "\n",
    "**Note**: Operations between two or more `Pyramid`s will occur on a per `Tile` basis which depends on the tiles having the same key. It is therefore possible to do an operation between two `Pyramid`s and getting a result where nothing has changed if neither of the `Pyramid`s have matching keys."
   ]
  },
  {
   "cell_type": "code",
   "execution_count": 10,
   "metadata": {
    "collapsed": false,
    "scrolled": false
   },
   "outputs": [
    {
     "data": {
      "text/plain": [
       "Pyramid(layer_type=LayerType.SPATIAL, max_zoom=11, num_levels=12, is_cached=False)"
      ]
     },
     "execution_count": 10,
     "metadata": {},
     "output_type": "execute_result"
    }
   ],
   "source": [
    "pyramided + 1"
   ]
  },
  {
   "cell_type": "code",
   "execution_count": 11,
   "metadata": {
    "collapsed": false
   },
   "outputs": [
    {
     "data": {
      "text/plain": [
       "Pyramid(layer_type=LayerType.SPATIAL, max_zoom=11, num_levels=12, is_cached=False)"
      ]
     },
     "execution_count": 11,
     "metadata": {},
     "output_type": "execute_result"
    }
   ],
   "source": [
    "(2 * (pyramided + 2)) / 3"
   ]
  },
  {
   "cell_type": "markdown",
   "metadata": {},
   "source": [
    "When performing operations on two or more `Pyramid`s, if the `Pyamid`s involved have different number of `level`s, then the resulting `Pyramid` will only have as many levels as the source `Pyramid` with the smallest level count."
   ]
  },
  {
   "cell_type": "code",
   "execution_count": 12,
   "metadata": {
    "collapsed": false
   },
   "outputs": [
    {
     "data": {
      "text/plain": [
       "Pyramid(layer_type=LayerType.SPATIAL, max_zoom=4, num_levels=5, is_cached=False)"
      ]
     },
     "execution_count": 12,
     "metadata": {},
     "output_type": "execute_result"
    }
   ],
   "source": [
    "small_pyramid = gps.Pyramid({x: tiled_layer.tile_to_layout(gps.GlobalLayout(zoom=x)) for x in range(0, 5)})\n",
    "small_pyramid"
   ]
  },
  {
   "cell_type": "code",
   "execution_count": 13,
   "metadata": {
    "collapsed": false
   },
   "outputs": [
    {
     "data": {
      "text/plain": [
       "Pyramid(layer_type=LayerType.SPATIAL, max_zoom=4, num_levels=5, is_cached=False)"
      ]
     },
     "execution_count": 13,
     "metadata": {},
     "output_type": "execute_result"
    }
   ],
   "source": [
    "pyramided + small_pyramid"
   ]
  },
  {
   "cell_type": "markdown",
   "metadata": {},
   "source": [
    "## ColorMap\n",
    "\n",
    "The `ColorMap` class in GeoPySpark acts as a wrapper for the GeoTrellis `ColorMap` class. It is used to colorize the data within a layer when it's being visualized."
   ]
  },
  {
   "cell_type": "markdown",
   "metadata": {},
   "source": [
    "### Constructing a Color Ramp\n",
    "\n",
    "Before we can initialize `ColorMap` we must first create a list of colors (or a color ramp) to pass in. This can be created either through a function in the `color` module or manually."
   ]
  },
  {
   "cell_type": "markdown",
   "metadata": {},
   "source": [
    "#### Using Matplotlib\n",
    "\n",
    "The `get_colors_from_matplotlib` function creates a color ramp using the name of on an existing in color ramp in `Matplotlib` and the number of colors.\n",
    "\n",
    "**Note**: This function will not work if `Matplotlib` is not installed."
   ]
  },
  {
   "cell_type": "code",
   "execution_count": 14,
   "metadata": {
    "collapsed": false
   },
   "outputs": [
    {
     "data": {
      "text/plain": [
       "[1140937983,\n 1141003775,\n 1141069823,\n 1157978367,\n 1158044415,\n 1158175743,\n 1175018751,\n 1175150335,\n 1175216127,\n 1175347711,\n 1192190719,\n 1192322047,\n 1192388095,\n 1192519423,\n 1192585215,\n 1192651263,\n 1192782591,\n 1209625599,\n 1209691391,\n 1209822975,\n 1209888767,\n 1209954559,\n 1210085887,\n 1210151679,\n 1210217471,\n 1210283263,\n 1193637375,\n 1193703167,\n 1193768959,\n 1193834751,\n 1193966079,\n 1194031871,\n 1194097663,\n 1177386239,\n 1177517311,\n 1177583103,\n 1177648895,\n 1160937471,\n 1161068543,\n 1161134335,\n 1161200127,\n 1144488447,\n 1144619775,\n 1127908351,\n 1127973887,\n 1128039679,\n 1111327999,\n 1111393791,\n 1111524863,\n 1094813439,\n 1094878975,\n 1078167551,\n 1078233087,\n 1061521407,\n 1061652735,\n 1044941055,\n 1045006847,\n 1028295167,\n 1028360703,\n 1028426239,\n 1011714815,\n 1011780351,\n 995134207,\n 995199743,\n 978488319,\n 978553855,\n 961842175,\n 961907711,\n 945196031,\n 945261823,\n 928550143,\n 928615679,\n 911903999,\n 911969535,\n 895257855,\n 895323391,\n 878611967,\n 878677503,\n 861965823,\n 862031359,\n 845319679,\n 845385215,\n 828673535,\n 828739071,\n 828804607,\n 812092927,\n 812158463,\n 795446783,\n 795512319,\n 778800895,\n 778866431,\n 778931967,\n 762220287,\n 762285823,\n 745574143,\n 745639679,\n 745705215,\n 728993535,\n 729059071,\n 712347391,\n 712412927,\n 712478463,\n 695766783,\n 695832319,\n 679120639,\n 679120639,\n 679186175,\n 662474495,\n 662540031,\n 662605567,\n 645893887,\n 645959423,\n 646024959,\n 629313279,\n 629378559,\n 612666879,\n 612732415,\n 612797951,\n 596086271,\n 596151807,\n 596217343,\n 579440127,\n 579505663,\n 579571199,\n 562859519,\n 562924799,\n 562990335,\n 546278655,\n 546344191,\n 546409727,\n 529698047,\n 529763327,\n 529828863,\n 529894399,\n 529959935,\n 513247999,\n 513313535,\n 513379071,\n 513379071,\n 513444351,\n 513509887,\n 513575423,\n 513640703,\n 513706239,\n 513771775,\n 513837055,\n 530679807,\n 530745087,\n 530810623,\n 547653119,\n 547718655,\n 564561407,\n 564626687,\n 581403903,\n 598246399,\n 598311679,\n 615154431,\n 631996927,\n 648839679,\n 665682175,\n 682524671,\n 699367423,\n 716209919,\n 733052415,\n 749829631,\n 783449343,\n 800291839,\n 817134335,\n 850754303,\n 867596799,\n 901216511,\n 918059007,\n 951678719,\n 968455935,\n 1002075647,\n 1035695359,\n 1052537855,\n 1086157567,\n 1119777279,\n 1153331455,\n 1170173951,\n 1203793663,\n 1237413375,\n 1271033087,\n 1304587263,\n 1338206719,\n 1371826431,\n 1405446143,\n 1439065855,\n 1472620031,\n 1506239743,\n 1539859199,\n 1590256127,\n 1623810303,\n 1657430015,\n 1691049471,\n 1741446399,\n 1775000575,\n 1808620031,\n 1842239743,\n 1892570879,\n 1926190591,\n 1959810303,\n 2010141439,\n 2043761151,\n 2094157823,\n 2127711999,\n 2178108671,\n 2211662847,\n 2262059519,\n 2295678975,\n 2346010367,\n 2379629823,\n 2429961215,\n 2463580671,\n 2513911807,\n 2547531519,\n 2597862655,\n 2648259327,\n 2681813247,\n 2732210175,\n 2782541311,\n 2816160767,\n 2866492159,\n 2916888831,\n 2950442751,\n 3000839423,\n 3051170815,\n 3084724735,\n 3135121407,\n 3185452799,\n 3219072255,\n 3269403391,\n 3319734783,\n 3353354239,\n 3403685631,\n 3454017023,\n 3487636735,\n 3537968127,\n 3571522303,\n 3621919231,\n 3672250623,\n 3705805055,\n 3756202239,\n 3789756671,\n 3840088319,\n 3890485759,\n 3924040191,\n 3974372095,\n 4007992319,\n 4058324223,\n 4091879167,\n 4142276607,\n 4175831551,\n 4209386239,\n 4259783935]"
      ]
     },
     "execution_count": 14,
     "metadata": {},
     "output_type": "execute_result"
    }
   ],
   "source": [
    "color_ramp = gps.get_colors_from_matplotlib(ramp_name=\"viridis\")\n",
    "color_ramp"
   ]
  },
  {
   "cell_type": "code",
   "execution_count": 15,
   "metadata": {
    "collapsed": false
   },
   "outputs": [
    {
     "data": {
      "text/plain": [
       "[167772415,\n 218104063,\n 301990143,\n 385876223,\n 436207871,\n 520093951,\n 603980031,\n 704643327,\n 738197759,\n 822083839,\n 922747135,\n 956301567,\n 1056964863,\n 1140850943,\n 1224737023,\n 1275068671,\n 1358954751,\n 1442840831,\n 1493172479,\n 1577058559,\n 1660944639,\n 1761607935,\n 1795162367,\n 1879048447,\n 1979711743,\n 2013266175,\n 2113929471,\n 2197815551,\n 2281701631,\n 2332033279,\n 2415919359,\n 2499805439,\n 2550137087,\n 2634023167,\n 2717909247,\n 2818572543,\n 2852126975,\n 2936013055,\n 3036676351,\n 3120562431,\n 3170894079,\n 3254780159,\n 3338666239,\n 3388997887,\n 3472883967,\n 3556770047,\n 3640656127,\n 3690987775,\n 3774873855,\n 3875537151,\n 3909091583,\n 3992977663,\n 4093640959,\n 4177527039,\n 4227858687,\n 4278321407,\n 4278649087,\n 4278845695,\n 4279173375,\n 4279501055,\n 4279894271,\n 4280025343,\n 4280353023,\n 4280746239,\n 4280877311,\n 4281270527,\n 4281598207,\n 4281925887,\n 4282122495,\n 4282450175,\n 4282777855,\n 4282974463,\n 4283302143,\n 4283629823,\n 4284023039,\n 4284154111,\n 4284481791,\n 4284875007,\n 4285202687,\n 4285399295,\n 4285726975,\n 4286054655,\n 4286251263,\n 4286578943,\n 4286906623,\n 4287234303,\n 4287430911,\n 4287758591,\n 4288086271,\n 4288282879,\n 4288610559,\n 4289003775,\n 4289331455,\n 4289462527,\n 4289855743,\n 4290183423,\n 4290380031,\n 4290707711,\n 4291035391,\n 4291363071,\n 4291559679,\n 4291887359,\n 4292215039,\n 4292411647,\n 4292739327,\n 4293132543,\n 4293460223,\n 4293591295,\n 4293984511,\n 4294312191,\n 4294508799,\n 4294836479,\n 4294903551,\n 4294905599,\n 4294906623,\n 4294908671,\n 4294910719,\n 4294912767,\n 4294913791,\n 4294915839,\n 4294917887,\n 4294918655,\n 4294920703,\n 4294922751,\n 4294924799,\n 4294925823,\n 4294927871,\n 4294929919,\n 4294930943,\n 4294932991,\n 4294934783,\n 4294936831,\n 4294937855,\n 4294939903,\n 4294941951,\n 4294942975,\n 4294945023,\n 4294947071,\n 4294949119,\n 4294950143,\n 4294951935,\n 4294953983,\n 4294955007,\n 4294957055,\n 4294959103,\n 4294961151,\n 4294962175,\n 4294964223,\n 4294966271,\n 4294967295]"
      ]
     },
     "execution_count": 15,
     "metadata": {},
     "output_type": "execute_result"
    }
   ],
   "source": [
    "gps.get_colors_from_matplotlib(ramp_name=\"hot\", num_colors=150)"
   ]
  },
  {
   "cell_type": "markdown",
   "metadata": {},
   "source": [
    "#### From ColorTools\n",
    "\n",
    "The second helper function for constructing a color ramp is `get_colors_from_colors`. This uses the `colortools` package to build the ramp from `[Color]` instances.\n",
    "\n",
    "**Note**: This function will not work if `colortools` is not installed."
   ]
  },
  {
   "cell_type": "code",
   "execution_count": 16,
   "metadata": {
    "collapsed": false
   },
   "outputs": [
    {
     "data": {
      "text/plain": [
       "[Color(0, 128, 0, 255), Color(255, 0, 0, 255), Color(0, 0, 255, 255)]"
      ]
     },
     "execution_count": 16,
     "metadata": {},
     "output_type": "execute_result"
    }
   ],
   "source": [
    "colors = [Color('green'), Color('red'), Color('blue')]\n",
    "colors"
   ]
  },
  {
   "cell_type": "code",
   "execution_count": 17,
   "metadata": {
    "collapsed": false
   },
   "outputs": [
    {
     "data": {
      "text/plain": [
       "[8388863, 4278190335, 65535]"
      ]
     },
     "execution_count": 17,
     "metadata": {},
     "output_type": "execute_result"
    }
   ],
   "source": [
    "colors_color_ramp = gps.get_colors_from_colors(colors=colors)\n",
    "colors_color_ramp"
   ]
  },
  {
   "cell_type": "markdown",
   "metadata": {},
   "source": [
    "### Creating a ColorMap\n",
    "\n",
    "`ColorMap` has many different ways of being constructed depending on the inputs it's given. It has a general `build` method that can take various types for `breaks` and `colors` in addition to other `classmethod`s that have more specific inputs."
   ]
  },
  {
   "cell_type": "markdown",
   "metadata": {},
   "source": [
    "#### From a Histogram"
   ]
  },
  {
   "cell_type": "code",
   "execution_count": 18,
   "metadata": {
    "collapsed": false
   },
   "outputs": [
    {
     "data": {
      "text/plain": [
       "<geopyspark.geotrellis.color.ColorMap at 0x7fbd80df8f60>"
      ]
     },
     "execution_count": 18,
     "metadata": {},
     "output_type": "execute_result"
    }
   ],
   "source": [
    "gps.ColorMap.from_histogram(histogram=hist, color_list=color_ramp)"
   ]
  },
  {
   "cell_type": "markdown",
   "metadata": {},
   "source": [
    "#### From a List of Colors"
   ]
  },
  {
   "cell_type": "code",
   "execution_count": 19,
   "metadata": {
    "collapsed": false
   },
   "outputs": [
    {
     "data": {
      "text/plain": [
       "<geopyspark.geotrellis.color.ColorMap at 0x7fbd80dee438>"
      ]
     },
     "execution_count": 19,
     "metadata": {},
     "output_type": "execute_result"
    }
   ],
   "source": [
    "# Creates a ColorMap instance that will have three colors for the values that are less than or equal to 0, 250, and\n",
    "# 1000.\n",
    "gps.ColorMap.from_colors(breaks=[0, 250, 1000], color_list=colors_color_ramp)"
   ]
  },
  {
   "cell_type": "markdown",
   "metadata": {},
   "source": [
    "#### For NLCD Data\n",
    "\n",
    "If the layers you are working with contain data from NLCD, then it is possible to construct a `ColorMap` without first making a color ramp and passing in a list of breaks."
   ]
  },
  {
   "cell_type": "code",
   "execution_count": 20,
   "metadata": {
    "collapsed": false
   },
   "outputs": [
    {
     "data": {
      "text/plain": [
       "<geopyspark.geotrellis.color.ColorMap at 0x7fbd80df87f0>"
      ]
     },
     "execution_count": 20,
     "metadata": {},
     "output_type": "execute_result"
    }
   ],
   "source": [
    "gps.ColorMap.nlcd_colormap()"
   ]
  },
  {
   "cell_type": "markdown",
   "metadata": {},
   "source": [
    "#### From a Break Map\n",
    "\n",
    "If there aren't many colors to work with in the layer, than it may be easier to construct a `ColorMap` using a `break_map`, a `dict` that maps tile values to colors."
   ]
  },
  {
   "cell_type": "code",
   "execution_count": 21,
   "metadata": {
    "collapsed": false
   },
   "outputs": [
    {
     "data": {
      "text/plain": [
       "<geopyspark.geotrellis.color.ColorMap at 0x7fbd80df36a0>"
      ]
     },
     "execution_count": 21,
     "metadata": {},
     "output_type": "execute_result"
    }
   ],
   "source": [
    "# The three tile values are 1, 2, and 3 and they correspond to the colors 0x00000000, 0x00000001, and 0x00000002\n",
    "# respectively.\n",
    "break_map = {\n",
    "    1: 0x00000000,\n",
    "    2: 0x00000001,\n",
    "    3: 0x00000002\n",
    "}\n",
    "\n",
    "gps.ColorMap.from_break_map(break_map=break_map)"
   ]
  },
  {
   "cell_type": "markdown",
   "metadata": {},
   "source": [
    "#### More General Build Method\n",
    "\n",
    "As mentioned above, `ColorMap` has a more general `classmethod` called `build` which a wide range of types to construct a `ColorMap`. In the following example, `build` will be passed the same inputs used in the previous examples."
   ]
  },
  {
   "cell_type": "code",
   "execution_count": 22,
   "metadata": {
    "collapsed": false
   },
   "outputs": [
    {
     "data": {
      "text/plain": [
       "<geopyspark.geotrellis.color.ColorMap at 0x7fbd80df8828>"
      ]
     },
     "execution_count": 22,
     "metadata": {},
     "output_type": "execute_result"
    }
   ],
   "source": [
    "# build using a Histogram\n",
    "gps.ColorMap.build(breaks=hist, colors=color_ramp)\n",
    "\n",
    "# It is also possible to pass in the name of Matplotlib color ramp instead of constructing it yourself\n",
    "gps.ColorMap.build(breaks=hist, colors=\"viridis\")\n",
    "\n",
    "# build using Colors\n",
    "gps.ColorMap.build(breaks=colors_color_ramp, colors=colors)\n",
    "\n",
    "# buld using breaks\n",
    "gps.ColorMap.build(breaks=break_map)"
   ]
  },
  {
   "cell_type": "markdown",
   "metadata": {},
   "source": [
    "#### Additional Coloring Options\n",
    "\n",
    "In addition to supplying breaks and color values to `ColorMap`, there are other ways of changing the coloring strategy of a layer.\n",
    "\n",
    "The following additional parameters that can be changed:\n",
    "\n",
    "- `no_data_color`: The color of the `no_data_value` of the `Tile`s. The default is `0x00000000`\n",
    "- `fallback`: The color to use when a `Tile` value has no color mapping. The default is `0x00000000`\n",
    "- `classification_strategy`: How the colors should be assigned to the values based on the breaks. The default is `ClassificationStrategy.LESS_THAN_OR_EQUAL_TO`."
   ]
  },
  {
   "cell_type": "code",
   "execution_count": 23,
   "metadata": {},
   "outputs": [],
   "source": [
    "pysc.stop()"
   ]
  }
 ],
 "metadata": {
  "kernelspec": {
   "display_name": "Python 3",
   "language": "python",
   "name": "python3"
  },
  "language_info": {
   "codemirror_mode": {
    "name": "ipython",
    "version": 3.0
   },
   "file_extension": ".py",
   "mimetype": "text/x-python",
   "name": "python",
   "nbconvert_exporter": "python",
   "pygments_lexer": "ipython3",
   "version": "3.5.1+"
  }
 },
 "nbformat": 4,
 "nbformat_minor": 0
}